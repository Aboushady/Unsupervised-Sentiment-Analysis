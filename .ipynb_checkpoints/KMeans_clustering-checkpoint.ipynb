{
 "cells": [
  {
   "cell_type": "code",
   "execution_count": 1,
   "metadata": {},
   "outputs": [],
   "source": [
    "import pandas as pd\n",
    "import numpy as np\n",
    "from gensim.models import Word2Vec"
   ]
  },
  {
   "cell_type": "code",
   "execution_count": 2,
   "metadata": {},
   "outputs": [],
   "source": [
    "word_vectors = Word2Vec.load(\"gensim_embeddings/word2vec.model\").wv"
   ]
  },
  {
   "cell_type": "code",
   "execution_count": 3,
   "metadata": {},
   "outputs": [],
   "source": [
    "from sklearn.cluster import KMeans"
   ]
  },
  {
   "cell_type": "code",
   "execution_count": 4,
   "metadata": {},
   "outputs": [],
   "source": [
    "model = KMeans(n_clusters=2, max_iter=1000, random_state=True, n_init=50).fit(X=word_vectors.vectors)"
   ]
  },
  {
   "cell_type": "code",
   "execution_count": 6,
   "metadata": {},
   "outputs": [
    {
     "data": {
      "text/plain": [
       "[('pelen_profesjonalim', 0.9740794897079468),\n",
       " ('superszybko_supersprawnie', 0.97325599193573),\n",
       " ('bardzon', 0.9731361865997314),\n",
       " ('duzu_wybor', 0.971358060836792),\n",
       " ('ladne_garnki', 0.9698898196220398),\n",
       " ('najlpszym_porzadku', 0.9690271615982056),\n",
       " ('wieloma_promocjami', 0.9684171676635742),\n",
       " ('cudowna_wspolpraca', 0.9679782390594482),\n",
       " ('pelen_profesjonaliz', 0.9675517678260803),\n",
       " ('przyzwoicie_cenowo', 0.9674378633499146)]"
      ]
     },
     "execution_count": 6,
     "metadata": {},
     "output_type": "execute_result"
    }
   ],
   "source": [
    "word_vectors.similar_by_vector(model.cluster_centers_[0], topn=10, restrict_vocab=None)"
   ]
  },
  {
   "cell_type": "code",
   "execution_count": 7,
   "metadata": {},
   "outputs": [],
   "source": [
    "positive_cluster_center = model.cluster_centers_[0]\n",
    "negative_cluster_center = model.cluster_centers_[1]"
   ]
  },
  {
   "cell_type": "code",
   "execution_count": 12,
   "metadata": {},
   "outputs": [
    {
     "name": "stderr",
     "output_type": "stream",
     "text": [
      "C:\\Users\\rafal.wojcik\\AppData\\Local\\Continuum\\anaconda3\\lib\\site-packages\\ipykernel_launcher.py:3: DeprecationWarning: Call to deprecated `wv` (Attribute will be removed in 4.0.0, use self instead).\n",
      "  This is separate from the ipykernel package so we can avoid doing imports until\n"
     ]
    }
   ],
   "source": [
    "words = pd.DataFrame(word_vectors.vocab.keys())\n",
    "words.columns = ['words']\n",
    "words['vectors'] = words.words.apply(lambda x: word_vectors.wv[f'{x}'])\n",
    "words['cluster'] = words.vectors.apply(lambda x: model.predict([np.array(x)]))\n",
    "words.cluster = words.cluster.apply(lambda x: x[0])"
   ]
  },
  {
   "cell_type": "code",
   "execution_count": 13,
   "metadata": {},
   "outputs": [],
   "source": [
    "words['cluster_value'] = [1 if i==0 else -1 for i in words.cluster]\n",
    "words['closeness_score'] = words.apply(lambda x: 1/(model.transform([x.vectors]).min()), axis=1)\n",
    "words['sentiment_coeff'] = words.closeness_score * words.cluster_value"
   ]
  },
  {
   "cell_type": "code",
   "execution_count": 14,
   "metadata": {},
   "outputs": [
    {
     "data": {
      "text/html": [
       "<div>\n",
       "<style scoped>\n",
       "    .dataframe tbody tr th:only-of-type {\n",
       "        vertical-align: middle;\n",
       "    }\n",
       "\n",
       "    .dataframe tbody tr th {\n",
       "        vertical-align: top;\n",
       "    }\n",
       "\n",
       "    .dataframe thead th {\n",
       "        text-align: right;\n",
       "    }\n",
       "</style>\n",
       "<table border=\"1\" class=\"dataframe\">\n",
       "  <thead>\n",
       "    <tr style=\"text-align: right;\">\n",
       "      <th></th>\n",
       "      <th>words</th>\n",
       "      <th>vectors</th>\n",
       "      <th>cluster</th>\n",
       "      <th>cluster_value</th>\n",
       "      <th>closeness_score</th>\n",
       "      <th>sentiment_coeff</th>\n",
       "    </tr>\n",
       "  </thead>\n",
       "  <tbody>\n",
       "    <tr>\n",
       "      <td>0</td>\n",
       "      <td>polecam</td>\n",
       "      <td>[-0.02470352, -0.082732126, -0.079213925, -0.0...</td>\n",
       "      <td>0</td>\n",
       "      <td>1</td>\n",
       "      <td>1.087899</td>\n",
       "      <td>1.087899</td>\n",
       "    </tr>\n",
       "    <tr>\n",
       "      <td>1</td>\n",
       "      <td>nie</td>\n",
       "      <td>[0.014096147, 0.0637706, -0.0010459234, -0.048...</td>\n",
       "      <td>1</td>\n",
       "      <td>-1</td>\n",
       "      <td>1.040580</td>\n",
       "      <td>-1.040580</td>\n",
       "    </tr>\n",
       "    <tr>\n",
       "      <td>2</td>\n",
       "      <td>pierwszy</td>\n",
       "      <td>[0.056765042, -0.09199047, 0.08266655, 0.09691...</td>\n",
       "      <td>1</td>\n",
       "      <td>-1</td>\n",
       "      <td>0.917234</td>\n",
       "      <td>-0.917234</td>\n",
       "    </tr>\n",
       "    <tr>\n",
       "      <td>3</td>\n",
       "      <td>i</td>\n",
       "      <td>[-0.02382544, -0.08968795, -0.021327522, 0.078...</td>\n",
       "      <td>0</td>\n",
       "      <td>1</td>\n",
       "      <td>1.032074</td>\n",
       "      <td>1.032074</td>\n",
       "    </tr>\n",
       "    <tr>\n",
       "      <td>4</td>\n",
       "      <td>ostatni</td>\n",
       "      <td>[-0.038712688, 0.023532541, -0.015589995, 0.03...</td>\n",
       "      <td>0</td>\n",
       "      <td>1</td>\n",
       "      <td>0.913226</td>\n",
       "      <td>0.913226</td>\n",
       "    </tr>\n",
       "    <tr>\n",
       "      <td>5</td>\n",
       "      <td>raz</td>\n",
       "      <td>[-0.05670418, -0.026917517, 0.02923223, -0.003...</td>\n",
       "      <td>1</td>\n",
       "      <td>-1</td>\n",
       "      <td>0.914965</td>\n",
       "      <td>-0.914965</td>\n",
       "    </tr>\n",
       "    <tr>\n",
       "      <td>6</td>\n",
       "      <td>!</td>\n",
       "      <td>[-0.080847055, -0.0045862175, -0.028238203, 0....</td>\n",
       "      <td>0</td>\n",
       "      <td>1</td>\n",
       "      <td>1.020936</td>\n",
       "      <td>1.020936</td>\n",
       "    </tr>\n",
       "    <tr>\n",
       "      <td>7</td>\n",
       "      <td>bardzo</td>\n",
       "      <td>[0.035183594, -0.101224475, -0.122554824, -0.0...</td>\n",
       "      <td>0</td>\n",
       "      <td>1</td>\n",
       "      <td>1.058093</td>\n",
       "      <td>1.058093</td>\n",
       "    </tr>\n",
       "    <tr>\n",
       "      <td>8</td>\n",
       "      <td>dobra_komunikacja</td>\n",
       "      <td>[-0.025162177, -0.065728605, -0.04423076, -0.0...</td>\n",
       "      <td>0</td>\n",
       "      <td>1</td>\n",
       "      <td>1.015565</td>\n",
       "      <td>1.015565</td>\n",
       "    </tr>\n",
       "    <tr>\n",
       "      <td>9</td>\n",
       "      <td>sms</td>\n",
       "      <td>[0.096155785, 0.0020886227, -0.021806756, -0.1...</td>\n",
       "      <td>1</td>\n",
       "      <td>-1</td>\n",
       "      <td>0.966783</td>\n",
       "      <td>-0.966783</td>\n",
       "    </tr>\n",
       "  </tbody>\n",
       "</table>\n",
       "</div>"
      ],
      "text/plain": [
       "               words                                            vectors  \\\n",
       "0            polecam  [-0.02470352, -0.082732126, -0.079213925, -0.0...   \n",
       "1                nie  [0.014096147, 0.0637706, -0.0010459234, -0.048...   \n",
       "2           pierwszy  [0.056765042, -0.09199047, 0.08266655, 0.09691...   \n",
       "3                  i  [-0.02382544, -0.08968795, -0.021327522, 0.078...   \n",
       "4            ostatni  [-0.038712688, 0.023532541, -0.015589995, 0.03...   \n",
       "5                raz  [-0.05670418, -0.026917517, 0.02923223, -0.003...   \n",
       "6                  !  [-0.080847055, -0.0045862175, -0.028238203, 0....   \n",
       "7             bardzo  [0.035183594, -0.101224475, -0.122554824, -0.0...   \n",
       "8  dobra_komunikacja  [-0.025162177, -0.065728605, -0.04423076, -0.0...   \n",
       "9                sms  [0.096155785, 0.0020886227, -0.021806756, -0.1...   \n",
       "\n",
       "   cluster  cluster_value  closeness_score  sentiment_coeff  \n",
       "0        0              1         1.087899         1.087899  \n",
       "1        1             -1         1.040580        -1.040580  \n",
       "2        1             -1         0.917234        -0.917234  \n",
       "3        0              1         1.032074         1.032074  \n",
       "4        0              1         0.913226         0.913226  \n",
       "5        1             -1         0.914965        -0.914965  \n",
       "6        0              1         1.020936         1.020936  \n",
       "7        0              1         1.058093         1.058093  \n",
       "8        0              1         1.015565         1.015565  \n",
       "9        1             -1         0.966783        -0.966783  "
      ]
     },
     "execution_count": 14,
     "metadata": {},
     "output_type": "execute_result"
    }
   ],
   "source": [
    "words.head(10)"
   ]
  },
  {
   "cell_type": "code",
   "execution_count": 15,
   "metadata": {},
   "outputs": [],
   "source": [
    "words[['words', 'sentiment_coeff']].to_csv('sentiment_dictionary.csv', index=False)"
   ]
  }
 ],
 "metadata": {
  "kernelspec": {
   "display_name": "Python 3",
   "language": "python",
   "name": "python3"
  },
  "language_info": {
   "codemirror_mode": {
    "name": "ipython",
    "version": 3
   },
   "file_extension": ".py",
   "mimetype": "text/x-python",
   "name": "python",
   "nbconvert_exporter": "python",
   "pygments_lexer": "ipython3",
   "version": "3.7.4"
  }
 },
 "nbformat": 4,
 "nbformat_minor": 4
}
